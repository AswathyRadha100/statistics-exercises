{
 "cells": [
  {
   "cell_type": "markdown",
   "id": "86f27c4e",
   "metadata": {},
   "source": [
    "# Probability Distributions Exercises"
   ]
  },
  {
   "cell_type": "markdown",
   "id": "7d37764b",
   "metadata": {},
   "source": [
    "### There are a large number of distributions used in statistical applications. This lesson will focus on:\n",
    "### Uniform distributions, Binomial distributions, Normal distributions and Poisson distributions.\n",
    "\n",
    "### Uniform distributions have equal likelihoods among all outcomes, like a fair coin.\n",
    "### Binomial distributions are all about determining a binary outcome of an event. Success/failure, for example.\n",
    "### Normal distributions model a continuous random variable.\n",
    "### Poisson distributions model a certain amount of events occuring over a time interval\n",
    "    "
   ]
  },
  {
   "cell_type": "code",
   "execution_count": 1,
   "id": "21f309c4",
   "metadata": {},
   "outputs": [],
   "source": [
    "#Importing libraries:-\n",
    "\n",
    "#For creating visualizations and plots.\n",
    "import matplotlib.pyplot as plt \n",
    "#For numerical computing and array operations.\n",
    "import numpy as np\n",
    "#For data manipulation and analysis.\n",
    "import pandas as pd\n",
    "#For statistical data visualization.\n",
    "import seaborn as sns\n",
    "# For statistical functions and distributions.\n",
    "from scipy import stats\n"
   ]
  },
  {
   "cell_type": "markdown",
   "id": "fecf3215",
   "metadata": {},
   "source": [
    "### 1. A bank found that the average number of cars waiting during the noon hour at a drive-up window follows a Poisson distribution with a mean of 2 cars. Make a chart of this distribution and answer these questions concerning the probability of cars waiting at the drive-up window.\n"
   ]
  },
  {
   "cell_type": "code",
   "execution_count": 69,
   "id": "4ca74149",
   "metadata": {},
   "outputs": [
    {
     "data": {
      "image/png": "[encoded data removed]",
      "text/plain": [
       "<Figure size 640x480 with 1 Axes>"
      ]
     },
     "metadata": {},
     "output_type": "display_data"
    }
   ],
   "source": [
    "λ = 2\n",
    "# create a NumPy array x, which represents the possible number of cars \n",
    "# that can wait at the drive-up window during the noon hour. It contains values from 0 to 11.\n",
    "x = np.arange(0,12)\n",
    "\n",
    "#calculates the probabilities (PMF) of observing each value in array 'x' \n",
    "#under the Poisson distribution with a mean of 'λ' \n",
    "y = stats.poisson(λ).pmf(x)\n",
    "\n",
    "\n",
    "#for each value of 'n' in the domain. \n",
    "#The resulting list prob contains the probabilities of observing 0, 1, 2, ..., up to 12 cars at the drive-up window.\n",
    "plt.bar(x,y)\n",
    "plt.title('Poisson distribution - Probability of Number of Cars Showing up between 12-1PM ')\n",
    "plt.xlabel('Number of cars during noon hour')\n",
    "plt.ylabel('P(X)');"
   ]
  },
  {
   "cell_type": "markdown",
   "id": "abe340f9",
   "metadata": {},
   "source": [
    "\n",
    "\n",
    "### What is the probability that no cars drive up in the noon hour?\n"
   ]
  },
  {
   "cell_type": "code",
   "execution_count": 139,
   "id": "15355098",
   "metadata": {},
   "outputs": [
    {
     "data": {
      "text/plain": [
       "0.1353352832366127"
      ]
     },
     "execution_count": 139,
     "metadata": {},
     "output_type": "execute_result"
    }
   ],
   "source": [
    "# probability of exactly 0?\n",
    "λ = 2 \n",
    "stats.poisson(λ).pmf(0)\n"
   ]
  },
  {
   "cell_type": "code",
   "execution_count": 68,
   "id": "e2daa3bb",
   "metadata": {},
   "outputs": [
    {
     "data": {
      "text/plain": [
       "0.14"
      ]
     },
     "execution_count": 68,
     "metadata": {},
     "output_type": "execute_result"
    }
   ],
   "source": [
    "#rounding to 2 decimal places\n",
    "round(stats.poisson(λ).pmf(0), 2)"
   ]
  },
  {
   "cell_type": "markdown",
   "id": "4f22767a",
   "metadata": {},
   "source": [
    "\n",
    "### What is the probability that 3 or more cars come through the drive through?\n"
   ]
  },
  {
   "cell_type": "code",
   "execution_count": null,
   "id": "93102924",
   "metadata": {},
   "outputs": [],
   "source": [
    "Here, we are looking for probability of X or *more* happening.\n",
    "Hence, survival function.\n",
    "Since sf is exclusive, pass the right value in."
   ]
  },
  {
   "cell_type": "code",
   "execution_count": 140,
   "id": "057c188f",
   "metadata": {},
   "outputs": [
    {
     "data": {
      "text/plain": [
       "0.32332358381693654"
      ]
     },
     "execution_count": 140,
     "metadata": {},
     "output_type": "execute_result"
    }
   ],
   "source": [
    "# probability of 3 or more?\n",
    "stats.poisson(λ).sf(2)"
   ]
  },
  {
   "cell_type": "markdown",
   "id": "5f3ab004",
   "metadata": {},
   "source": [
    "\n",
    "### How likely is it that the drive through gets at least 1 car?\n"
   ]
  },
  {
   "cell_type": "code",
   "execution_count": null,
   "id": "bbd597bf",
   "metadata": {},
   "outputs": [],
   "source": [
    "survival function once again here"
   ]
  },
  {
   "cell_type": "code",
   "execution_count": 71,
   "id": "4bd858f3",
   "metadata": {},
   "outputs": [
    {
     "data": {
      "text/plain": [
       "0.8646647167633873"
      ]
     },
     "execution_count": 71,
     "metadata": {},
     "output_type": "execute_result"
    }
   ],
   "source": [
    "# probability of 1 or more?\n",
    "stats.poisson(λ).sf(0)"
   ]
  },
  {
   "cell_type": "code",
   "execution_count": 73,
   "id": "13e9c353",
   "metadata": {},
   "outputs": [
    {
     "data": {
      "text/plain": [
       "0.8646647167633873"
      ]
     },
     "execution_count": 73,
     "metadata": {},
     "output_type": "execute_result"
    }
   ],
   "source": [
    "# or\n",
    "1 - stats.poisson(λ).pmf(0)"
   ]
  },
  {
   "cell_type": "markdown",
   "id": "9df822f6",
   "metadata": {},
   "source": [
    "### 2. Grades of State University graduates are normally distributed with a mean of 3.0 and a standard deviation of .3. Calculate the following:\n",
    "\n",
    "What grade point average is required to be in the top 5% of the graduating class?\n",
    "What GPA constitutes the bottom 15% of the class?\n",
    "An eccentric alumnus left scholarship money for students in the third decile from the bottom of their class. Determine the range of the third decile. Would a student with a 2.8 grade point average qualify for this scholarship?\n",
    "If I have a GPA of 3.5, what percentile am I in?"
   ]
  },
  {
   "cell_type": "markdown",
   "id": "603e3238",
   "metadata": {},
   "source": [
    "It's a normal distribution\n",
    "mean = 3.0\n",
    "std = 0.3\n",
    "===> values at the right side of the distribution tail\n",
    "I have the P, I want the X! inverse survivial function"
   ]
  },
  {
   "cell_type": "code",
   "execution_count": 74,
   "id": "54b37b93",
   "metadata": {},
   "outputs": [],
   "source": [
    "μ = 3.0\n",
    "σ = 0.3\n",
    "grade = stats.norm(μ, σ)"
   ]
  },
  {
   "cell_type": "markdown",
   "id": "af2dfc71",
   "metadata": {},
   "source": [
    "### What grade point average is required to be in the top 5% of the graduating class?\n"
   ]
  },
  {
   "cell_type": "code",
   "execution_count": 75,
   "id": "105e854b",
   "metadata": {},
   "outputs": [
    {
     "data": {
      "text/plain": [
       "3.4934560880854417"
      ]
     },
     "execution_count": 75,
     "metadata": {},
     "output_type": "execute_result"
    }
   ],
   "source": [
    "# use isf when value is (>) \n",
    "grade.isf(.05)"
   ]
  },
  {
   "cell_type": "code",
   "execution_count": 11,
   "id": "41df6d0a",
   "metadata": {},
   "outputs": [
    {
     "data": {
      "text/plain": [
       "3.4934560880854417"
      ]
     },
     "execution_count": 11,
     "metadata": {},
     "output_type": "execute_result"
    }
   ],
   "source": [
    "#or the opposite is true as well\n",
    "# use ppf when value is (<=) \n",
    "grade.ppf(0.95)"
   ]
  },
  {
   "cell_type": "markdown",
   "id": "6feb3a47",
   "metadata": {},
   "source": [
    "### What GPA constitutes the bottom 15% of the class?"
   ]
  },
  {
   "cell_type": "code",
   "execution_count": 13,
   "id": "513256cd",
   "metadata": {},
   "outputs": [
    {
     "data": {
      "text/plain": [
       "2.689069983151863"
      ]
     },
     "execution_count": 13,
     "metadata": {},
     "output_type": "execute_result"
    }
   ],
   "source": [
    "# use ppf when value is given(<=) \n",
    "grade.ppf(.15)"
   ]
  },
  {
   "cell_type": "code",
   "execution_count": 14,
   "id": "563081ac",
   "metadata": {},
   "outputs": [
    {
     "data": {
      "text/plain": [
       "2.689069983151863"
      ]
     },
     "execution_count": 14,
     "metadata": {},
     "output_type": "execute_result"
    }
   ],
   "source": [
    "#the opposite is also true\n",
    "# use isf when value is (>) \n",
    "grade.isf(.85)"
   ]
  },
  {
   "cell_type": "markdown",
   "id": "d562f930",
   "metadata": {},
   "source": [
    "### An eccentric alumnus left scholarship money for students in the third decile from the bottom of their class. Determine the range of the third decile. Would a student with a 2.8 grade point average qualify for this scholarship?\n"
   ]
  },
  {
   "cell_type": "code",
   "execution_count": null,
   "id": "d34048e4",
   "metadata": {},
   "outputs": [],
   "source": [
    "NOTE:\n",
    "1st decile: 0-10 percentile\n",
    "2nd decile:10-20 percentile\n",
    "3rd decile: 20-30 percentile"
   ]
  },
  {
   "cell_type": "code",
   "execution_count": null,
   "id": "19b689b9",
   "metadata": {},
   "outputs": [],
   "source": [
    "the range of the third decile is 20 -30 percentile"
   ]
  },
  {
   "cell_type": "code",
   "execution_count": 135,
   "id": "28646069",
   "metadata": {},
   "outputs": [
    {
     "data": {
      "text/plain": [
       "array([2.74751363, 2.84267985])"
      ]
     },
     "execution_count": 135,
     "metadata": {},
     "output_type": "execute_result"
    }
   ],
   "source": [
    "#we want to know the X value for where the probability sits in *two* places this time\n",
    "#so we use ppf to find the X based on the probability\n",
    "range_of_3rddecile= grade.ppf([.20,.30])\n",
    "range_of_3rddecile"
   ]
  },
  {
   "cell_type": "code",
   "execution_count": 138,
   "id": "a7f35b93",
   "metadata": {},
   "outputs": [
    {
     "data": {
      "text/plain": [
       "True"
      ]
     },
     "execution_count": 138,
     "metadata": {},
     "output_type": "execute_result"
    }
   ],
   "source": [
    "#check our work\n",
    "(range_of_3rddecile[0] < 2.8) and (range_of_3rddecile[1] > 2.8)\n"
   ]
  },
  {
   "cell_type": "markdown",
   "id": "63b2f703",
   "metadata": {},
   "source": [
    "### If I have a GPA of 3.5, what percentile am I in?"
   ]
  },
  {
   "cell_type": "code",
   "execution_count": 17,
   "id": "36e9bc72",
   "metadata": {},
   "outputs": [
    {
     "data": {
      "text/plain": [
       "0.9522096477271853"
      ]
     },
     "execution_count": 17,
     "metadata": {},
     "output_type": "execute_result"
    }
   ],
   "source": [
    "grade.cdf(3.5)"
   ]
  },
  {
   "cell_type": "code",
   "execution_count": 18,
   "id": "733d2fc6",
   "metadata": {},
   "outputs": [
    {
     "data": {
      "text/plain": [
       "0.0477903522728147"
      ]
     },
     "execution_count": 18,
     "metadata": {},
     "output_type": "execute_result"
    }
   ],
   "source": [
    "grade.sf(3.5)"
   ]
  },
  {
   "cell_type": "code",
   "execution_count": 77,
   "id": "6b9dcaac",
   "metadata": {},
   "outputs": [
    {
     "data": {
      "text/plain": [
       "0.05"
      ]
     },
     "execution_count": 77,
     "metadata": {},
     "output_type": "execute_result"
    }
   ],
   "source": [
    "round(grade.sf(3.5),2)"
   ]
  },
  {
   "cell_type": "code",
   "execution_count": 79,
   "id": "a8267165",
   "metadata": {},
   "outputs": [],
   "source": [
    "#or\n",
    "\n",
    "# lets get the values associated with those percentiles\n",
    "# so we know what gpa values we need to be between in order to qualify for this scholarship\n",
    "grade_lower = grade.ppf(0.2)\n",
    "grade_higher = grade.ppf(0.3)"
   ]
  },
  {
   "cell_type": "code",
   "execution_count": 80,
   "id": "17a53c87",
   "metadata": {},
   "outputs": [
    {
     "data": {
      "text/plain": [
       "(2.7475136299281258, 2.842679846187588)"
      ]
     },
     "execution_count": 80,
     "metadata": {},
     "output_type": "execute_result"
    }
   ],
   "source": [
    "grade_lower,grade_higher"
   ]
  },
  {
   "cell_type": "code",
   "execution_count": 82,
   "id": "b020e678",
   "metadata": {},
   "outputs": [
    {
     "data": {
      "text/plain": [
       "True"
      ]
     },
     "execution_count": 82,
     "metadata": {},
     "output_type": "execute_result"
    }
   ],
   "source": [
    "grade_for_gpa_qualification = 2.8\n",
    "grade_lower < grade_for_gpa_qualification < grade_higher"
   ]
  },
  {
   "cell_type": "code",
   "execution_count": 83,
   "id": "ca13ecee",
   "metadata": {},
   "outputs": [],
   "source": [
    "higher_fence = grade.ppf([0.2,0.3])[1]"
   ]
  },
  {
   "cell_type": "code",
   "execution_count": 86,
   "id": "0236f556",
   "metadata": {},
   "outputs": [
    {
     "data": {
      "text/plain": [
       "True"
      ]
     },
     "execution_count": 86,
     "metadata": {},
     "output_type": "execute_result"
    }
   ],
   "source": [
    "lower_fence, higher_fence  = grade.ppf((0.2,0.3))\n",
    "lower_fence < grade_for_gpa_qualification < higher_fence"
   ]
  },
  {
   "cell_type": "markdown",
   "id": "6e324859",
   "metadata": {},
   "source": [
    "### 3.A marketing website has an average click-through rate of 2%. One day they observe 4326 visitors and 97 click-throughs. How likely is it that this many people or more click through?\n",
    "\n"
   ]
  },
  {
   "cell_type": "markdown",
   "id": "5f927ab5",
   "metadata": {},
   "source": [
    "rate of success: 2%\n",
    "number of trials: 4326\n",
    "If I thought about this as a poisson: lambda, the mean of events happening over a window\n",
    "would be 0.02 * 4326"
   ]
  },
  {
   "cell_type": "code",
   "execution_count": 20,
   "id": "83d1c85a",
   "metadata": {},
   "outputs": [],
   "source": [
    "n_trials = 4326\n",
    "p= .02\n",
    "click_throughs = stats.binom(n_trials, p)"
   ]
  },
  {
   "cell_type": "code",
   "execution_count": 90,
   "id": "7f759269",
   "metadata": {},
   "outputs": [
    {
     "data": {
      "text/plain": [
       "0.021942930454375544"
      ]
     },
     "execution_count": 90,
     "metadata": {},
     "output_type": "execute_result"
    }
   ],
   "source": [
    "# probability of exactly 97?\n",
    "click_throughs.pmf(97)"
   ]
  },
  {
   "cell_type": "code",
   "execution_count": 89,
   "id": "18f05135",
   "metadata": {},
   "outputs": [
    {
     "data": {
      "text/plain": [
       "0.13975823631416448"
      ]
     },
     "execution_count": 89,
     "metadata": {},
     "output_type": "execute_result"
    }
   ],
   "source": [
    "# probability of 97 or more?\n",
    "click_throughs.sf(96)"
   ]
  },
  {
   "cell_type": "code",
   "execution_count": null,
   "id": "1ffeac63",
   "metadata": {},
   "outputs": [],
   "source": [
    "#or"
   ]
  },
  {
   "cell_type": "code",
   "execution_count": null,
   "id": "844f231b",
   "metadata": {},
   "outputs": [],
   "source": [
    "\n",
    "Walkthrough using simulation"
   ]
  },
  {
   "cell_type": "code",
   "execution_count": 22,
   "id": "6c9b27d7",
   "metadata": {},
   "outputs": [
    {
     "data": {
      "text/plain": [
       "array([[0, 0, 0, ..., 0, 0, 0],\n",
       "       [0, 0, 0, ..., 0, 0, 0],\n",
       "       [1, 0, 0, ..., 0, 0, 0],\n",
       "       ...,\n",
       "       [0, 0, 0, ..., 0, 0, 0],\n",
       "       [0, 0, 0, ..., 0, 0, 0],\n",
       "       [0, 0, 0, ..., 0, 0, 0]])"
      ]
     },
     "execution_count": 22,
     "metadata": {},
     "output_type": "execute_result"
    }
   ],
   "source": [
    "clicks= np.random.choice([0,1], (10_000, 4326), p = [.98,.02])\n",
    "clicks\n",
    "\n",
    "#([0,1] is click or not- true / false)"
   ]
  },
  {
   "cell_type": "code",
   "execution_count": 23,
   "id": "d95564ff",
   "metadata": {},
   "outputs": [
    {
     "data": {
      "text/plain": [
       "0.138"
      ]
     },
     "execution_count": 23,
     "metadata": {},
     "output_type": "execute_result"
    }
   ],
   "source": [
    "(clicks.sum(axis=1) >96).mean()"
   ]
  },
  {
   "cell_type": "code",
   "execution_count": null,
   "id": "27ccca66",
   "metadata": {},
   "outputs": [],
   "source": [
    "Walkthrough using poisson approximation"
   ]
  },
  {
   "cell_type": "code",
   "execution_count": 24,
   "id": "c63b2d85",
   "metadata": {},
   "outputs": [
    {
     "data": {
      "text/plain": [
       "0.14211867659283192"
      ]
     },
     "execution_count": 24,
     "metadata": {},
     "output_type": "execute_result"
    }
   ],
   "source": [
    "λ = n_trials* p\n",
    "stats.poisson(λ).sf(96)"
   ]
  },
  {
   "cell_type": "markdown",
   "id": "11bda1b4",
   "metadata": {},
   "source": [
    "### 4.You are working on some statistics homework consisting of 100 questions where all of the answers are a probability rounded to the hundreths place. Looking to save time, you put down random probabilities as the answer to each question.\n",
    "\n",
    "### What is the probability that at least one of your first 60 answers is correct?"
   ]
  },
  {
   "cell_type": "code",
   "execution_count": null,
   "id": "1006c943",
   "metadata": {},
   "outputs": [],
   "source": [
    "# type of distribution: binomial\n",
    "# number of trials?\n",
    "# 60, we are only looking at the first 60 trials\n",
    "# prob of success?\n",
    "# 0.01 because we are looking at hundreths place decimals\n"
   ]
  },
  {
   "cell_type": "code",
   "execution_count": null,
   "id": "a0f20722",
   "metadata": {},
   "outputs": [],
   "source": [
    "Walkthrough using binomial:"
   ]
  },
  {
   "cell_type": "code",
   "execution_count": 25,
   "id": "15c20018",
   "metadata": {},
   "outputs": [
    {
     "data": {
      "text/plain": [
       "0.45284335760923855"
      ]
     },
     "execution_count": 25,
     "metadata": {},
     "output_type": "execute_result"
    }
   ],
   "source": [
    "n_trials = 60\n",
    "p= 0.01\n",
    "\n",
    "stats.binom(n_trials, p).sf(0)"
   ]
  },
  {
   "cell_type": "code",
   "execution_count": 93,
   "id": "05f7861d",
   "metadata": {},
   "outputs": [],
   "source": [
    "# or"
   ]
  },
  {
   "cell_type": "code",
   "execution_count": null,
   "id": "d000f997",
   "metadata": {},
   "outputs": [],
   "source": [
    "Walkthrough using simulation:"
   ]
  },
  {
   "cell_type": "code",
   "execution_count": 26,
   "id": "d54fc454",
   "metadata": {},
   "outputs": [
    {
     "data": {
      "text/plain": [
       "0.4533"
      ]
     },
     "execution_count": 26,
     "metadata": {},
     "output_type": "execute_result"
    }
   ],
   "source": [
    "((np.random.choice([0,1], (10_000, 60), p= [0.99,0.01])).sum(axis = 1)>0).mean()\n"
   ]
  },
  {
   "cell_type": "markdown",
   "id": "7ab44a43",
   "metadata": {},
   "source": [
    "### 5.The codeup staff tends to get upset when the student break area is not cleaned up. Suppose that there's a 3% chance that any one student cleans the break area when they visit it, and, on any given day, about 90% of the 3 active cohorts of 22 students visit the break area. How likely is it that the break area gets cleaned up each day? How likely is it that it goes two days without getting cleaned up? All week?\n",
    "\n"
   ]
  },
  {
   "cell_type": "code",
   "execution_count": 94,
   "id": "b38bd880",
   "metadata": {},
   "outputs": [],
   "source": [
    "#Type of distro : binomial\n",
    "#Number of trials: ?\n",
    "# success rate: 0.03\n",
    "# num trials: 3 * 22 * 0.9\n",
    "students_in_one_cohort = 22\n",
    "num_cohorts = 3\n",
    "prop_students = 0.9\n",
    "num_trials = students_in_one_cohort * num_cohorts * prop_students"
   ]
  },
  {
   "cell_type": "code",
   "execution_count": 95,
   "id": "00acdc6c",
   "metadata": {},
   "outputs": [],
   "source": [
    "# make sure our number of trials is an integer!\n",
    "num_trials = round(num_trials)"
   ]
  },
  {
   "cell_type": "code",
   "execution_count": 96,
   "id": "6fbc7639",
   "metadata": {},
   "outputs": [],
   "source": [
    "prob_clean = 0.03\n",
    "clean_dist = stats.binom(num_trials, prob_clean)"
   ]
  },
  {
   "cell_type": "code",
   "execution_count": 97,
   "id": "353404cb",
   "metadata": {},
   "outputs": [
    {
     "data": {
      "text/plain": [
       "0.8342199288437352"
      ]
     },
     "execution_count": 97,
     "metadata": {},
     "output_type": "execute_result"
    }
   ],
   "source": [
    "# break area gets cleaned at least once in a day?\n",
    "clean_dist.sf(0)"
   ]
  },
  {
   "cell_type": "code",
   "execution_count": 106,
   "id": "fc86ab54",
   "metadata": {},
   "outputs": [
    {
     "data": {
      "text/plain": [
       "0.027483031992576134"
      ]
     },
     "execution_count": 106,
     "metadata": {},
     "output_type": "execute_result"
    }
   ],
   "source": [
    "# how likely is it that it goes two days without cleaning?\n",
    "# twice as many trials!\n",
    "# probability of exactly zero times cleaned over two days:\n",
    "clean_dist = stats.binom(num_trials * 2, prob_clean).pmf(0)\n",
    "clean_dist\n",
    "\n"
   ]
  },
  {
   "cell_type": "code",
   "execution_count": 107,
   "id": "88c7e155",
   "metadata": {},
   "outputs": [
    {
     "data": {
      "text/plain": [
       "0.02748303199257622"
      ]
     },
     "execution_count": 107,
     "metadata": {},
     "output_type": "execute_result"
    }
   ],
   "source": [
    "#can also use cdf\n",
    "clean_dist_2days = stats.binom(num_trials * 2, prob_clean).cdf(0)\n",
    "clean_dist_2days "
   ]
  },
  {
   "cell_type": "code",
   "execution_count": 99,
   "id": "adaa8514",
   "metadata": {},
   "outputs": [
    {
     "data": {
      "text/plain": [
       "0.00012521651388091245"
      ]
     },
     "execution_count": 99,
     "metadata": {},
     "output_type": "execute_result"
    }
   ],
   "source": [
    "# what about one week?\n",
    "clean_dist = stats.binom(num_trials * 5, prob_clean)\n",
    "clean_dist.pmf(0)"
   ]
  },
  {
   "cell_type": "markdown",
   "id": "ce3d25d7",
   "metadata": {},
   "source": [
    "### 6.You want to get lunch at La Panaderia, but notice that the line is usually very long at lunchtime. After several weeks of careful observation, you notice that the average number of people in line when your lunch break starts is normally distributed with a mean of 15 and standard deviation of 3. If it takes 2 minutes for each person to order, and 10 minutes from ordering to getting your food, what is the likelihood that you have at least 15 minutes left to eat your food before you have to go back to class? Assume you have one hour for lunch, and ignore travel time to and from La Panaderia."
   ]
  },
  {
   "cell_type": "code",
   "execution_count": 113,
   "id": "cb113813",
   "metadata": {},
   "outputs": [],
   "source": [
    "# normal distribution, but I want to know about if I will have enough time to eat!\n",
    "# so, lets look at the people in terms of minutes\n",
    "# 2 minutes for each person to order\n",
    "# average of 15 folks\n",
    "# standard deviation of 3 folks\n",
    "# normal dist for time: (15*2), standard dev for time: (3*2)\n",
    "panaderia_dist = stats.norm((15*2), (3*2))"
   ]
  },
  {
   "cell_type": "code",
   "execution_count": null,
   "id": "e3d958f7",
   "metadata": {},
   "outputs": [],
   "source": [
    "# lunch break stats:\n",
    "# 60 minutes at start:\n",
    "# 10 minutes to get my food\n",
    "# 2 minutes for *me* to order"
   ]
  },
  {
   "cell_type": "code",
   "execution_count": 114,
   "id": "f8e42312",
   "metadata": {},
   "outputs": [],
   "source": [
    "lunch_break = 60\n",
    "time_waiting = 10\n",
    "time_ordering = 2\n",
    "time_bank = lunch_break - time_waiting - time_ordering\n"
   ]
  },
  {
   "cell_type": "code",
   "execution_count": 115,
   "id": "61d701c8",
   "metadata": {},
   "outputs": [],
   "source": [
    "# take away the time I have to eat, which gives me the maximum amount of time\n",
    "# that people could take up in line outside of the static values\n",
    "# that I need in order to CONSUME\n",
    "time_bank = time_bank - 15"
   ]
  },
  {
   "cell_type": "code",
   "execution_count": 116,
   "id": "ef355e5a",
   "metadata": {},
   "outputs": [
    {
     "data": {
      "text/plain": [
       "0.6914624612740131"
      ]
     },
     "execution_count": 116,
     "metadata": {},
     "output_type": "execute_result"
    }
   ],
   "source": [
    "panaderia_dist.cdf(time_bank)\n"
   ]
  },
  {
   "cell_type": "markdown",
   "id": "c772dc31",
   "metadata": {},
   "source": [
    "### 7.Connect to the employees database and find the average salary of current employees, along with the standard deviation. For the following questions, calculate the answer based on modeling the employees salaries with a normal distribution defined by the calculated mean and standard deviation then compare this answer to the actual values present in the salaries dataset.What percent of employees earn less than 60,000?\n",
    "### What percent of employees earn more than 95,000?What percent of employees earn between 65,000 and 80,000? What do the top 5% of employees make? Hint If you're looking at this exercise and wondering \"How do I get pandas to talk the database, again?\", remember that you'll need 3 things: your .gitignore, your env.py, and to use pd.read_sql. Copy over your .gitignore and env.py from your data science libraries exercises folder, and connect to the employees database like so:\n",
    "\n",
    "\n"
   ]
  },
  {
   "cell_type": "code",
   "execution_count": null,
   "id": "10ad8256",
   "metadata": {},
   "outputs": [],
   "source": [
    "IMPORTANT:\n",
    "For this exercises, you will need to add your .gitignore as well as your env.py to this repo."
   ]
  },
  {
   "cell_type": "code",
   "execution_count": 120,
   "id": "f8573c2e",
   "metadata": {},
   "outputs": [],
   "source": [
    "from env import get_db_url\n",
    "from sqlalchemy import create_engine, text"
   ]
  },
  {
   "cell_type": "code",
   "execution_count": 121,
   "id": "5d193864",
   "metadata": {},
   "outputs": [],
   "source": [
    "def get_db_url(db, username=env.user, host=env.host, password=env.password):\n",
    "    return f'mysql+pymysql://{username}:{password}@{host}/{db}'\n",
    "\n",
    "   "
   ]
  },
  {
   "cell_type": "code",
   "execution_count": 122,
   "id": "95c722d7",
   "metadata": {},
   "outputs": [],
   "source": [
    "url = get_db_url('employees')\n",
    "query = text('SELECT * FROM salaries where to_date >now()')\n",
    "engine = create_engine(url)\n",
    "salaries = pd.read_sql(query, engine.connect())"
   ]
  },
  {
   "cell_type": "code",
   "execution_count": 123,
   "id": "8f81defa",
   "metadata": {},
   "outputs": [
    {
     "data": {
      "text/html": [
       "<div>\n",
       "<style scoped>\n",
       "    .dataframe tbody tr th:only-of-type {\n",
       "        vertical-align: middle;\n",
       "    }\n",
       "\n",
       "    .dataframe tbody tr th {\n",
       "        vertical-align: top;\n",
       "    }\n",
       "\n",
       "    .dataframe thead th {\n",
       "        text-align: right;\n",
       "    }\n",
       "</style>\n",
       "<table border=\"1\" class=\"dataframe\">\n",
       "  <thead>\n",
       "    <tr style=\"text-align: right;\">\n",
       "      <th></th>\n",
       "      <th>emp_no</th>\n",
       "      <th>salary</th>\n",
       "      <th>from_date</th>\n",
       "      <th>to_date</th>\n",
       "    </tr>\n",
       "  </thead>\n",
       "  <tbody>\n",
       "    <tr>\n",
       "      <th>0</th>\n",
       "      <td>10001</td>\n",
       "      <td>88958</td>\n",
       "      <td>2002-06-22</td>\n",
       "      <td>9999-01-01</td>\n",
       "    </tr>\n",
       "    <tr>\n",
       "      <th>1</th>\n",
       "      <td>10002</td>\n",
       "      <td>72527</td>\n",
       "      <td>2001-08-02</td>\n",
       "      <td>9999-01-01</td>\n",
       "    </tr>\n",
       "    <tr>\n",
       "      <th>2</th>\n",
       "      <td>10003</td>\n",
       "      <td>43311</td>\n",
       "      <td>2001-12-01</td>\n",
       "      <td>9999-01-01</td>\n",
       "    </tr>\n",
       "    <tr>\n",
       "      <th>3</th>\n",
       "      <td>10004</td>\n",
       "      <td>74057</td>\n",
       "      <td>2001-11-27</td>\n",
       "      <td>9999-01-01</td>\n",
       "    </tr>\n",
       "    <tr>\n",
       "      <th>4</th>\n",
       "      <td>10005</td>\n",
       "      <td>94692</td>\n",
       "      <td>2001-09-09</td>\n",
       "      <td>9999-01-01</td>\n",
       "    </tr>\n",
       "  </tbody>\n",
       "</table>\n",
       "</div>"
      ],
      "text/plain": [
       "   emp_no  salary   from_date     to_date\n",
       "0   10001   88958  2002-06-22  9999-01-01\n",
       "1   10002   72527  2001-08-02  9999-01-01\n",
       "2   10003   43311  2001-12-01  9999-01-01\n",
       "3   10004   74057  2001-11-27  9999-01-01\n",
       "4   10005   94692  2001-09-09  9999-01-01"
      ]
     },
     "execution_count": 123,
     "metadata": {},
     "output_type": "execute_result"
    }
   ],
   "source": [
    "salaries.head()"
   ]
  },
  {
   "cell_type": "code",
   "execution_count": 124,
   "id": "bfed5ee1",
   "metadata": {},
   "outputs": [
    {
     "data": {
      "text/plain": [
       "72012.23585730705"
      ]
     },
     "execution_count": 124,
     "metadata": {},
     "output_type": "execute_result"
    }
   ],
   "source": [
    "# we are getting our mu/mean and our sigma/stdev from the data itself\n",
    "#Let's get the mean\n",
    "mean= salaries.salary.mean()\n",
    "mean"
   ]
  },
  {
   "cell_type": "code",
   "execution_count": 125,
   "id": "ee06e8c0",
   "metadata": {},
   "outputs": [
    {
     "data": {
      "text/plain": [
       "17309.995380251985"
      ]
     },
     "execution_count": 125,
     "metadata": {},
     "output_type": "execute_result"
    }
   ],
   "source": [
    "#Let's get the standard deviation\n",
    "std_dev= salaries.salary.std()\n",
    "std_dev"
   ]
  },
  {
   "cell_type": "markdown",
   "id": "688bbc4f",
   "metadata": {},
   "source": [
    "### A. What percent of employees earn less than 60,000?"
   ]
  },
  {
   "cell_type": "code",
   "execution_count": 127,
   "id": "17fdee8f",
   "metadata": {},
   "outputs": [
    {
     "data": {
      "text/plain": [
       "0.24385742480214434"
      ]
     },
     "execution_count": 127,
     "metadata": {},
     "output_type": "execute_result"
    }
   ],
   "source": [
    "stats.norm(mean, std_dev).cdf(60000)"
   ]
  },
  {
   "cell_type": "code",
   "execution_count": null,
   "id": "542b90ec",
   "metadata": {},
   "outputs": [],
   "source": [
    "#or"
   ]
  },
  {
   "cell_type": "code",
   "execution_count": 133,
   "id": "c09b0982",
   "metadata": {},
   "outputs": [
    {
     "data": {
      "text/plain": [
       "0.2705727041028802"
      ]
     },
     "execution_count": 133,
     "metadata": {},
     "output_type": "execute_result"
    }
   ],
   "source": [
    "(salaries.salary < 60_000).sum() / len(salaries.salary)"
   ]
  },
  {
   "cell_type": "markdown",
   "id": "b4c19f12",
   "metadata": {},
   "source": [
    "### B. What percent of employees earn more than 95,000?\n"
   ]
  },
  {
   "cell_type": "code",
   "execution_count": 128,
   "id": "6f817ae6",
   "metadata": {},
   "outputs": [
    {
     "data": {
      "text/plain": [
       "0.09208819199804058"
      ]
     },
     "execution_count": 128,
     "metadata": {},
     "output_type": "execute_result"
    }
   ],
   "source": [
    "stats.norm(mean, std_dev).sf(95000)\n"
   ]
  },
  {
   "cell_type": "markdown",
   "id": "a6974422",
   "metadata": {},
   "source": [
    "### C. What percent of employees earn between 65,000 and 80,000?"
   ]
  },
  {
   "cell_type": "code",
   "execution_count": 129,
   "id": "f41ffb5a",
   "metadata": {},
   "outputs": [
    {
     "data": {
      "text/plain": [
       "array([0.33506057])"
      ]
     },
     "execution_count": 129,
     "metadata": {},
     "output_type": "execute_result"
    }
   ],
   "source": [
    "#another way to complete same problem\n",
    "np.diff(stats.norm(mean, std_dev).cdf([65000,80000]))"
   ]
  },
  {
   "cell_type": "code",
   "execution_count": null,
   "id": "ddbdd50e",
   "metadata": {},
   "outputs": [],
   "source": [
    "#or"
   ]
  },
  {
   "cell_type": "code",
   "execution_count": 132,
   "id": "870dc128",
   "metadata": {},
   "outputs": [
    {
     "data": {
      "text/plain": [
       "0.325107028035515"
      ]
     },
     "execution_count": 132,
     "metadata": {},
     "output_type": "execute_result"
    }
   ],
   "source": [
    "((salaries.salary > 65_000) & (salaries.salary < 80_000)).sum() / len(salaries.salary)"
   ]
  },
  {
   "cell_type": "code",
   "execution_count": null,
   "id": "8a952b78",
   "metadata": {},
   "outputs": [],
   "source": [
    "D. What do the top 5% of employees make?"
   ]
  },
  {
   "cell_type": "code",
   "execution_count": 130,
   "id": "10c5dd14",
   "metadata": {},
   "outputs": [
    {
     "data": {
      "text/plain": [
       "100484.64454102777"
      ]
     },
     "execution_count": 130,
     "metadata": {},
     "output_type": "execute_result"
    }
   ],
   "source": [
    "stats.norm(mean, std_dev).isf(.05)"
   ]
  },
  {
   "cell_type": "code",
   "execution_count": 131,
   "id": "36496c10",
   "metadata": {},
   "outputs": [
    {
     "data": {
      "text/plain": [
       "100484.64454102775"
      ]
     },
     "execution_count": 131,
     "metadata": {},
     "output_type": "execute_result"
    }
   ],
   "source": [
    "#or\n",
    "#inversely\n",
    "stats.norm(mean, std_dev).ppf(.95)"
   ]
  },
  {
   "cell_type": "code",
   "execution_count": null,
   "id": "9ffa2ace",
   "metadata": {},
   "outputs": [],
   "source": []
  }
 ],
 "metadata": {
  "kernelspec": {
   "display_name": "Python 3 (ipykernel)",
   "language": "python",
   "name": "python3"
  },
  "language_info": {
   "codemirror_mode": {
    "name": "ipython",
    "version": 3
   },
   "file_extension": ".py",
   "mimetype": "text/x-python",
   "name": "python",
   "nbconvert_exporter": "python",
   "pygments_lexer": "ipython3",
   "version": "3.11.3"
  }
 },
 "nbformat": 4,
 "nbformat_minor": 5
}
