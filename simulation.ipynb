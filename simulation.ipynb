{
 "cells": [
  {
   "cell_type": "markdown",
   "id": "46190905",
   "metadata": {},
   "source": [
    "# Simulation\n",
    "In this lesson, we will work through several examples of using random numbers to simulate real-world scenarios."
   ]
  },
  {
   "cell_type": "code",
   "execution_count": 141,
   "id": "900564cc",
   "metadata": {},
   "outputs": [],
   "source": [
    "#importing libraries:-\n",
    "\n",
    "#For numerical computing and array operations.\n",
    "import numpy as np\n",
    "#For data manipulation and analysis.\n",
    "import pandas as pd\n",
    "# curriculum example visualizations\n",
    "import viz \n",
    "#For creating visualizations and plots.\n",
    "import matplotlib.pyplot as plt"
   ]
  },
  {
   "cell_type": "code",
   "execution_count": 142,
   "id": "fab24258",
   "metadata": {},
   "outputs": [],
   "source": [
    "#preset the number of simulations to 100,000 for all the questions in this exercise\n",
    "n_simulations =100_000\n",
    "\n",
    "#More Simulations gives higher Accuracy"
   ]
  },
  {
   "cell_type": "markdown",
   "id": "655edf2d",
   "metadata": {},
   "source": [
    "#### 1 How likely is it that you roll doubles when rolling two dice?\n",
    "\n"
   ]
  },
  {
   "cell_type": "code",
   "execution_count": 89,
   "id": "48c897ec",
   "metadata": {},
   "outputs": [
    {
     "data": {
      "text/plain": [
       "0.16666666666666666"
      ]
     },
     "execution_count": 89,
     "metadata": {},
     "output_type": "execute_result"
    }
   ],
   "source": [
    " # (1,1) (2,2) (3,3) (4,4) (5,5) (6,6) are the double if we have two dice\n",
    "# There are 6 chances for a double out of 36 rolls\n",
    "6/36 "
   ]
  },
  {
   "cell_type": "code",
   "execution_count": null,
   "id": "095a50c5",
   "metadata": {},
   "outputs": [],
   "source": [
    "#or"
   ]
  },
  {
   "cell_type": "code",
   "execution_count": 123,
   "id": "901d4c34",
   "metadata": {},
   "outputs": [
    {
     "name": "stdout",
     "output_type": "stream",
     "text": [
      "Probability of rolling doubles when rolling two dice across 100k simulations : 0.16505\n"
     ]
    }
   ],
   "source": [
    "#######Now use simulation##########\n",
    "\n",
    "#number of dice\n",
    "n_dice = 2 \n",
    "\n",
    "#possible outcomes\n",
    "outcomes = [1,2,3,4,5,6]\n",
    "\n",
    "#use random choice to get the simulation from the above list\n",
    "rolls = np.random.choice(outcomes, size=(n_simulations, n_dice))\n",
    "\n",
    "#compares the values in the first column with the values in the second column element-wise\n",
    "prob_doubles = (rolls[:,0] == rolls[:,1]).mean()\n",
    "print(f'Probability of rolling doubles when rolling two dice across 100k simulations :',prob_doubles)"
   ]
  },
  {
   "cell_type": "markdown",
   "id": "e8a7362b",
   "metadata": {},
   "source": [
    "### 2 If you flip 8 coins, what is the probability of getting exactly 3 heads? What is the probability of getting more than 3 heads?"
   ]
  },
  {
   "cell_type": "code",
   "execution_count": 138,
   "id": "a67644cf",
   "metadata": {},
   "outputs": [
    {
     "name": "stdout",
     "output_type": "stream",
     "text": [
      "Probability of getting  exactly 3 heads, when 8 coins are flipped: 0.21793\n",
      "Probability of getting  more than 3 heads, when 8 coins are flipped: 0.63624\n"
     ]
    }
   ],
   "source": [
    "####### use simulation#######\n",
    "\n",
    "#number of coins\n",
    "n_coins = 8\n",
    "\n",
    "#possible outcomes\n",
    "outcomes = ['H','T']\n",
    "\n",
    "#use random choice to get the simulation from the above list\n",
    "coinflips = np.random.choice(outcomes, size=(n_simulations, n_coins))\n",
    "\n",
    "#'coinflips' array now have each row representing a simulation and each column representing a coin\n",
    "\n",
    "#Boolean mask that checks if each element in the coinflips array is equal to 'H' and\n",
    "#counts the occurrences of 'H' in each row (simulation) of the coinflips array.\n",
    "flips_by_sim = (coinflips == 'H').sum(axis=1)\n",
    "\n",
    "#Landing on Heads exactly 3 times\n",
    "land_3heads =(flips_by_sim == 3).mean()\n",
    "print(f'Probability of getting  exactly 3 heads, when 8 coins are flipped:',land_3heads)\n",
    "\n",
    "#Landing on Heads more than 3 times\n",
    "land_more_3heads = (flips_by_sim > 3).mean()\n",
    "print(f'Probability of getting  more than 3 heads, when 8 coins are flipped:',land_more_3heads)\n"
   ]
  },
  {
   "cell_type": "markdown",
   "id": "4c2e11f5",
   "metadata": {},
   "source": [
    "#### 3.  There are approximitely 3 web development cohorts for every 1 data science cohort at Codeup. Assuming that Codeup randomly selects an alumni to put on a billboard, what are the odds that the two billboards I drive past both have data science students on them?"
   ]
  },
  {
   "cell_type": "code",
   "execution_count": 144,
   "id": "a7db0fd7",
   "metadata": {},
   "outputs": [
    {
     "data": {
      "text/plain": [
       "0.0625"
      ]
     },
     "execution_count": 144,
     "metadata": {},
     "output_type": "execute_result"
    }
   ],
   "source": [
    "# 3 web development class  per 1 data science class = 1/4 i.e  25% of alumni are data science \n",
    "# 2 billboards odds of both having a data science student on it\n",
    "# 25% chance per billboard * 2 billboards = 1/8\n",
    "\n",
    "(1/4) *(1/4)"
   ]
  },
  {
   "cell_type": "code",
   "execution_count": null,
   "id": "b15377c2",
   "metadata": {},
   "outputs": [],
   "source": [
    "#or"
   ]
  },
  {
   "cell_type": "code",
   "execution_count": 159,
   "id": "35cf3ba4",
   "metadata": {},
   "outputs": [
    {
     "name": "stdout",
     "output_type": "stream",
     "text": [
      "Probability that Codeup randomly selects an alumni to put on a billboard, who is a data science alumni : 0.50064\n",
      "Probability that two billboards will be exactly data science alumni : 0.0625\n",
      "Probability where odds of seeing a billboard that is not \"wd\" : 0.06666666666666667\n"
     ]
    }
   ],
   "source": [
    "####### Now use simulation#######\n",
    "\n",
    "#number of billboards\n",
    "n_billboards = 2\n",
    "\n",
    "#possible outcomes with 4 classes\n",
    "#outcomes = ['wd', 'wd', 'wd', 'ds']\n",
    "outcomes = ['wd','ds']\n",
    "\n",
    "#use random choice to get the simulation from the above list\n",
    "#using the probability of 1/4 classes being DS, and 3/4 classes being WD\n",
    "billboards = np.random.choice(outcomes, size=(n_simulations, n_billboards), p=[0.75, 0.25])\n",
    "\n",
    "# billboard will be exactly data science\n",
    "bill_exact_ds = (billboards == 'ds').sum(axis=1).mean()\n",
    "print(f'Probability that Codeup randomly selects an alumni to put on a billboard, who is a data science alumni :',bill_exact_ds)\n",
    "\n",
    "\n",
    "#probability that two billboards will be exactly data science\n",
    "bill_2ds = ((billboards == 'ds').sum(axis=1) == 2).mean()\n",
    "print(f'Probability that two billboards will be exactly data science alumni :',bill_2ds)\n",
    "\n",
    "\n",
    "#odds of seeing a billboard that is not 'wd'\n",
    "odds = bill_2ds/(1-bill_2ds)\n",
    "print(f'Probability where odds of seeing a billboard that is not \"wd\" :',odds)\n",
    "\n",
    "\n",
    "\n"
   ]
  },
  {
   "cell_type": "markdown",
   "id": "a5302a75",
   "metadata": {},
   "source": [
    "### 4. Codeup students buy, on average, 3 poptart packages with a standard deviation of 1.5 a day from the snack vending machine. If on monday the machine is restocked with 17 poptart packages, how likely is it that I will be able to buy some poptarts on Friday afternoon? (Remember, if you have mean and standard deviation, use the np.random.normal) You'll need to make a judgement call on how to handle some of your values"
   ]
  },
  {
   "cell_type": "code",
   "execution_count": 175,
   "id": "479e5ec3",
   "metadata": {},
   "outputs": [
    {
     "name": "stdout",
     "output_type": "stream",
     "text": [
      "Probability that poptarts are available on Friday afternoon : 0.61794\n"
     ]
    }
   ],
   "source": [
    "mean = 3\n",
    "sd = 1.5\n",
    "n_days_inweek = 5\n",
    "\n",
    "#let's use random normal because we have the mean and standard deviation,sd already given\n",
    "#poptart purchase data for each day of the week in multiple simulations\n",
    "poptarts_bought_day = np.random.normal(mean, sd, size=(n_simulations, n_days_inweek ))\n",
    "\n",
    "\n",
    "#sum of poptarts bought on each day (across columns) per week for each simulation (along rows)\n",
    "poptarts_bought_per_week = poptarts_bought_day.sum(axis=1)\n",
    "\n",
    "#probability that poptarts are available on Friday afternoon which means less than 17 poptarts are bought that week\n",
    "less_than17_pop = (poptarts_bought_per_week <= 16).mean()\n",
    "print(f'Probability that poptarts are available on Friday afternoon :',less_than17_pop)\n",
    "\n",
    "\n"
   ]
  },
  {
   "cell_type": "markdown",
   "id": "59bb265c",
   "metadata": {},
   "source": [
    "### 5. Compare Heights.Men have an average height of 178 cm and standard deviation of 8cm.Women have a mean of 170, sd = 6cm.Since you have means and standard deviations, you can use np.random.normal to generate observations. If a man and woman are chosen at random, what is the likelihood the woman is taller than the man?"
   ]
  },
  {
   "cell_type": "code",
   "execution_count": 181,
   "id": "13400c4c",
   "metadata": {},
   "outputs": [
    {
     "data": {
      "text/plain": [
       "array([170.24539976, 193.70205862, 178.49592343, ..., 172.15837392,\n",
       "       185.90860856, 175.66042328])"
      ]
     },
     "execution_count": 181,
     "metadata": {},
     "output_type": "execute_result"
    }
   ],
   "source": [
    "#men's average height in cm\n",
    "men_avg= 178\n",
    "#men's standard deviation in cm\n",
    "men_std=8\n",
    "\n",
    "\n",
    "#women's average height in cm\n",
    "women_avg=170\n",
    "#women's standard deviation in cm\n",
    "women_std=6\n",
    "\n",
    "\n",
    "\n",
    "#let's use random normal because we have the mean and standard deviation already given\n",
    "#find the average heights of men (in cm) \n",
    "height_men = np.random.normal(men_avg, men_std, n_simulations)\n",
    "\n",
    "\n",
    "#checking the height_men array\n",
    "height_men\n"
   ]
  },
  {
   "cell_type": "code",
   "execution_count": 179,
   "id": "b9229739",
   "metadata": {},
   "outputs": [
    {
     "data": {
      "text/plain": [
       "array([166.68315517, 172.06860384, 169.84542764, ..., 164.13378185,\n",
       "       168.9353371 , 166.66174784])"
      ]
     },
     "execution_count": 179,
     "metadata": {},
     "output_type": "execute_result"
    }
   ],
   "source": [
    "##let's use random normal because we have the mean and standard deviation already given\n",
    "#find the average heights of women (in cm) \n",
    "height_women = np.random.normal(women_avg, women_std, n_simulations)\n",
    "\n",
    "\n",
    "#checking the height_women array\n",
    "height_women"
   ]
  },
  {
   "cell_type": "code",
   "execution_count": 180,
   "id": "7fb3d788",
   "metadata": {},
   "outputs": [
    {
     "name": "stdout",
     "output_type": "stream",
     "text": [
      "Probability that women are taller then men: 0.21114\n"
     ]
    }
   ],
   "source": [
    "#what is the average probability that women are taller then men\n",
    "wmn_tall_men = (height_women > height_men).mean()\n",
    "print(f'Probability that women are taller then men:',wmn_tall_men)"
   ]
  },
  {
   "cell_type": "markdown",
   "id": "2b723e80",
   "metadata": {},
   "source": [
    "### 6.When installing anaconda on a student's computer, there's a 1 in 250 chance that the download is corrupted and the installation fails. What are the odds that after having 50 students download anaconda, no one has an installation issue? 100 students?\n",
    "\n",
    "### What is the probability that we observe an installation issue within the first 150 students that download anaconda?\n",
    "\n",
    "### How likely is it that 450 students all download anaconda without an issue?"
   ]
  },
  {
   "cell_type": "code",
   "execution_count": 214,
   "id": "ba54eeb8",
   "metadata": {},
   "outputs": [
    {
     "name": "stdout",
     "output_type": "stream",
     "text": [
      "50 students no issue 0.815\n",
      "100 students no issue 0.703\n",
      "150 students no issue 0.551\n",
      "Installation issue within the first 150 students that downloaded anaconda: 0.459\n",
      "450 students no issue 0.164\n"
     ]
    }
   ],
   "source": [
    "#possible outcomes, success or failure\n",
    "outcomes = ['S', 'F']\n",
    "\n",
    "n_students = 50\n",
    "#use random choice to get the simulation\n",
    "#p argument specifies the probability distribution associated with each outcome.\n",
    "#the p argument is an optional parameter that allows you to specify the probability distribution for each element in the outcomes array or list. \n",
    "#It should be a 1-D array-like object (list, tuple, or NumPy array) of the same length as the outcomes array.\n",
    "downloads = np.random.choice(outcomes, size=(n_simulations, n_students), p = [249/250, 1/250])\n",
    "#download being success and  no one has an installation issue\n",
    "(downloads == 'S').sum(axis=1)\n",
    "# possibility of 50 students download anaconda, no one has an installation issue\n",
    "x =((downloads == 'S').sum(axis=1) == 50).mean()\n",
    "print('50 students no issue',x)\n",
    "\n",
    "n_students = 100\n",
    "#use random choice to get the simulation\n",
    "downloads = np.random.choice(outcomes, size=(n_simulations, n_students), p = [249/250, 1/250])\n",
    "# possibility of 100 students download anaconda, no one has an installation issue\n",
    "x =((downloads == 'S').sum(axis=1) == 100).mean()\n",
    "print('100 students no issue',x)\n",
    "\n",
    "\n",
    "n_students = 150\n",
    "#use random choice to get the simulation\n",
    "downloads = np.random.choice(outcomes, size=(n_simulations, n_students), p = [249/250, 1/250])\n",
    "# possibility of 150 students download anaconda, no one has an installation issue\n",
    "x =((downloads == 'S').sum(axis=1) == 150).mean()\n",
    "print('150 students no issue',x)\n",
    "\n",
    "\n",
    "\n",
    "prob_of_failure = 1/250\n",
    "n_students = 150\n",
    "downloads = np.random.random((n_simulations, n_students))\n",
    "y = ((downloads < prob_of_failure).sum(axis=1) >= 1).mean()\n",
    "print('Installation issue within the first 150 students that downloaded anaconda:', y)\n",
    "\n",
    "\n",
    "n_students = 450\n",
    "#use random choice to get the simulation\n",
    "downloads = np.random.choice(outcomes, size=(n_simulations, n_students), p = [249/250, 1/250])\n",
    "# possibility of 450 students download anaconda, no one has an installation issue\n",
    "x =((downloads == 'S').sum(axis=1) == 450).mean()\n",
    "print('450 students no issue',x)"
   ]
  },
  {
   "cell_type": "markdown",
   "id": "17790c38",
   "metadata": {},
   "source": [
    "### 7. There's a 70% chance on any given day that there will be at least one food truck at Travis Park. However, you haven't seen a food truck there in 3 days. How unlikely is this?\n",
    "\n",
    "### How likely is it that a food truck will show up sometime this week?"
   ]
  },
  {
   "cell_type": "code",
   "execution_count": 215,
   "id": "c09e43e8",
   "metadata": {},
   "outputs": [
    {
     "name": "stdout",
     "output_type": "stream",
     "text": [
      "Probability of not seeing a food truck in 3 days: 0.027000000000000014\n",
      "Probability of seeing a food truck at least once in 3 days: 0.973\n"
     ]
    }
   ],
   "source": [
    "# Probability of seeing a food truck on any given day\n",
    "p = 0.7\n",
    "# Probability of not seeing a food truck on any single day\n",
    "q = 1 - p\n",
    "\n",
    "# Number of days (i.e trials)\n",
    "n_days = 3\n",
    "\n",
    "#probability of not seeing a food truck in 3 days (all 3 days are \"no food truck\" outcomes)\n",
    "probability_not_seeing_truck_in_3_days = q ** n_days\n",
    "\n",
    "# Probability of seeing a food truck at least once in 3 days\n",
    "probability_seeing_truck_in_3_days = 1 - probability_not_seeing_truck_in_3_days\n",
    "\n",
    "print(\"Probability of not seeing a food truck in 3 days:\", probability_not_seeing_truck_in_3_days)\n",
    "print(\"Probability of seeing a food truck at least once in 3 days:\", probability_seeing_truck_in_3_days)\n"
   ]
  },
  {
   "cell_type": "code",
   "execution_count": null,
   "id": "2d8b79ef",
   "metadata": {},
   "outputs": [],
   "source": [
    "#or"
   ]
  },
  {
   "cell_type": "code",
   "execution_count": null,
   "id": "e1a50782",
   "metadata": {},
   "outputs": [],
   "source": [
    "#####Now using simulations#######"
   ]
  },
  {
   "cell_type": "code",
   "execution_count": 216,
   "id": "50c5f061",
   "metadata": {},
   "outputs": [],
   "source": [
    "n_days = 3"
   ]
  },
  {
   "cell_type": "code",
   "execution_count": 217,
   "id": "22bf2065",
   "metadata": {},
   "outputs": [
    {
     "data": {
      "text/plain": [
       "array([[1, 1, 1],\n",
       "       [1, 1, 1],\n",
       "       [1, 0, 1],\n",
       "       ...,\n",
       "       [1, 1, 1],\n",
       "       [0, 0, 1],\n",
       "       [1, 0, 1]])"
      ]
     },
     "execution_count": 217,
     "metadata": {},
     "output_type": "execute_result"
    }
   ],
   "source": [
    "# 0 = no truck, 1 = truck shows up\n",
    "trucks = np.random.choice([0, 1], size = (n_simulations, n_days), p = [0.3, 0.7])\n",
    "\n",
    "#call the variable\n",
    "trucks"
   ]
  },
  {
   "cell_type": "code",
   "execution_count": 220,
   "id": "fc884362",
   "metadata": {},
   "outputs": [
    {
     "name": "stdout",
     "output_type": "stream",
     "text": [
      "Probability of not seeing a food truck in 3 days: 0.026\n"
     ]
    }
   ],
   "source": [
    "#Probability that no trucks shows up in 3 days\n",
    "#axis 1 is 0 (or no truck shows up)\n",
    "no_truck_3days =(trucks.sum(axis = 1) == 0).mean()\n",
    "print(\"Probability of not seeing a food truck in 3 days:\",no_truck_3days )"
   ]
  },
  {
   "cell_type": "code",
   "execution_count": null,
   "id": "448008c8",
   "metadata": {},
   "outputs": [],
   "source": [
    "How likely is it that a food truck will show up sometime this week"
   ]
  },
  {
   "cell_type": "code",
   "execution_count": 222,
   "id": "172f9ae4",
   "metadata": {},
   "outputs": [
    {
     "name": "stdout",
     "output_type": "stream",
     "text": [
      "Probability of seeing a food truck at least once in 3 days: 0.974\n"
     ]
    }
   ],
   "source": [
    "#Probability of seeing a food truck at least once in 3 days\n",
    "#likelyhood that in axis 1 there is a 1 (or a truck does show up) one or more days\n",
    "atleast1_truck_3days = (trucks.sum(axis = 1) >= 1).mean()\n",
    "print(\"Probability of seeing a food truck at least once in 3 days:\",atleast1_truck_3days )"
   ]
  },
  {
   "cell_type": "markdown",
   "id": "b425f2c9",
   "metadata": {},
   "source": [
    "### 8. If 23 people are in the same room, what are the odds that two of them share a birthday? What if it's 20 people? 40?"
   ]
  },
  {
   "cell_type": "code",
   "execution_count": 253,
   "id": "704b4537",
   "metadata": {},
   "outputs": [
    {
     "data": {
      "text/plain": [
       "array([[332, 322, 232, ..., 153, 363,  14],\n",
       "       [191, 232,  21, ..., 206, 343,  55],\n",
       "       [ 24,  87, 109, ...,  56, 113, 363],\n",
       "       ...,\n",
       "       [279, 335, 354, ..., 221, 263, 226],\n",
       "       [243, 218, 340, ..., 345, 306,  48],\n",
       "       [142,  90, 314, ...,  51, 102, 334]])"
      ]
     },
     "execution_count": 253,
     "metadata": {},
     "output_type": "execute_result"
    }
   ],
   "source": [
    "# 23 students in class\n",
    "#number of days in a year\n",
    "outcomes = range(0, 365) \n",
    "\n",
    "#number of students\n",
    "n_students= 23 \n",
    "\n",
    "#using random choice to get the possible birthdays\n",
    "birthdays= np.random.choice(outcomes, size=(n_simulations, n_students))\n",
    "\n",
    "#call that variable\n",
    "birthdays"
   ]
  },
  {
   "cell_type": "code",
   "execution_count": 244,
   "id": "36a7512e",
   "metadata": {},
   "outputs": [
    {
     "data": {
      "text/html": [
       "<div>\n",
       "<style scoped>\n",
       "    .dataframe tbody tr th:only-of-type {\n",
       "        vertical-align: middle;\n",
       "    }\n",
       "\n",
       "    .dataframe tbody tr th {\n",
       "        vertical-align: top;\n",
       "    }\n",
       "\n",
       "    .dataframe thead th {\n",
       "        text-align: right;\n",
       "    }\n",
       "</style>\n",
       "<table border=\"1\" class=\"dataframe\">\n",
       "  <thead>\n",
       "    <tr style=\"text-align: right;\">\n",
       "      <th></th>\n",
       "      <th>0</th>\n",
       "      <th>1</th>\n",
       "      <th>2</th>\n",
       "      <th>3</th>\n",
       "      <th>4</th>\n",
       "      <th>5</th>\n",
       "      <th>6</th>\n",
       "      <th>7</th>\n",
       "      <th>8</th>\n",
       "      <th>9</th>\n",
       "      <th>...</th>\n",
       "      <th>13</th>\n",
       "      <th>14</th>\n",
       "      <th>15</th>\n",
       "      <th>16</th>\n",
       "      <th>17</th>\n",
       "      <th>18</th>\n",
       "      <th>19</th>\n",
       "      <th>20</th>\n",
       "      <th>21</th>\n",
       "      <th>22</th>\n",
       "    </tr>\n",
       "  </thead>\n",
       "  <tbody>\n",
       "    <tr>\n",
       "      <th>0</th>\n",
       "      <td>216</td>\n",
       "      <td>215</td>\n",
       "      <td>261</td>\n",
       "      <td>183</td>\n",
       "      <td>280</td>\n",
       "      <td>331</td>\n",
       "      <td>165</td>\n",
       "      <td>151</td>\n",
       "      <td>159</td>\n",
       "      <td>76</td>\n",
       "      <td>...</td>\n",
       "      <td>6</td>\n",
       "      <td>9</td>\n",
       "      <td>194</td>\n",
       "      <td>314</td>\n",
       "      <td>56</td>\n",
       "      <td>119</td>\n",
       "      <td>269</td>\n",
       "      <td>294</td>\n",
       "      <td>269</td>\n",
       "      <td>51</td>\n",
       "    </tr>\n",
       "    <tr>\n",
       "      <th>1</th>\n",
       "      <td>113</td>\n",
       "      <td>196</td>\n",
       "      <td>107</td>\n",
       "      <td>137</td>\n",
       "      <td>295</td>\n",
       "      <td>193</td>\n",
       "      <td>77</td>\n",
       "      <td>62</td>\n",
       "      <td>305</td>\n",
       "      <td>334</td>\n",
       "      <td>...</td>\n",
       "      <td>244</td>\n",
       "      <td>156</td>\n",
       "      <td>96</td>\n",
       "      <td>207</td>\n",
       "      <td>258</td>\n",
       "      <td>32</td>\n",
       "      <td>110</td>\n",
       "      <td>227</td>\n",
       "      <td>252</td>\n",
       "      <td>298</td>\n",
       "    </tr>\n",
       "    <tr>\n",
       "      <th>2</th>\n",
       "      <td>41</td>\n",
       "      <td>352</td>\n",
       "      <td>192</td>\n",
       "      <td>159</td>\n",
       "      <td>92</td>\n",
       "      <td>113</td>\n",
       "      <td>104</td>\n",
       "      <td>289</td>\n",
       "      <td>89</td>\n",
       "      <td>263</td>\n",
       "      <td>...</td>\n",
       "      <td>140</td>\n",
       "      <td>230</td>\n",
       "      <td>135</td>\n",
       "      <td>51</td>\n",
       "      <td>155</td>\n",
       "      <td>141</td>\n",
       "      <td>48</td>\n",
       "      <td>260</td>\n",
       "      <td>45</td>\n",
       "      <td>161</td>\n",
       "    </tr>\n",
       "    <tr>\n",
       "      <th>3</th>\n",
       "      <td>173</td>\n",
       "      <td>307</td>\n",
       "      <td>300</td>\n",
       "      <td>37</td>\n",
       "      <td>56</td>\n",
       "      <td>341</td>\n",
       "      <td>17</td>\n",
       "      <td>178</td>\n",
       "      <td>259</td>\n",
       "      <td>305</td>\n",
       "      <td>...</td>\n",
       "      <td>284</td>\n",
       "      <td>296</td>\n",
       "      <td>85</td>\n",
       "      <td>260</td>\n",
       "      <td>92</td>\n",
       "      <td>228</td>\n",
       "      <td>180</td>\n",
       "      <td>223</td>\n",
       "      <td>272</td>\n",
       "      <td>300</td>\n",
       "    </tr>\n",
       "    <tr>\n",
       "      <th>4</th>\n",
       "      <td>177</td>\n",
       "      <td>164</td>\n",
       "      <td>218</td>\n",
       "      <td>315</td>\n",
       "      <td>98</td>\n",
       "      <td>2</td>\n",
       "      <td>159</td>\n",
       "      <td>231</td>\n",
       "      <td>220</td>\n",
       "      <td>28</td>\n",
       "      <td>...</td>\n",
       "      <td>146</td>\n",
       "      <td>247</td>\n",
       "      <td>338</td>\n",
       "      <td>264</td>\n",
       "      <td>135</td>\n",
       "      <td>238</td>\n",
       "      <td>69</td>\n",
       "      <td>123</td>\n",
       "      <td>88</td>\n",
       "      <td>115</td>\n",
       "    </tr>\n",
       "  </tbody>\n",
       "</table>\n",
       "<p>5 rows × 23 columns</p>\n",
       "</div>"
      ],
      "text/plain": [
       "    0    1    2    3    4    5    6    7    8    9   ...   13   14   15   16  \\\n",
       "0  216  215  261  183  280  331  165  151  159   76  ...    6    9  194  314   \n",
       "1  113  196  107  137  295  193   77   62  305  334  ...  244  156   96  207   \n",
       "2   41  352  192  159   92  113  104  289   89  263  ...  140  230  135   51   \n",
       "3  173  307  300   37   56  341   17  178  259  305  ...  284  296   85  260   \n",
       "4  177  164  218  315   98    2  159  231  220   28  ...  146  247  338  264   \n",
       "\n",
       "    17   18   19   20   21   22  \n",
       "0   56  119  269  294  269   51  \n",
       "1  258   32  110  227  252  298  \n",
       "2  155  141   48  260   45  161  \n",
       "3   92  228  180  223  272  300  \n",
       "4  135  238   69  123   88  115  \n",
       "\n",
       "[5 rows x 23 columns]"
      ]
     },
     "execution_count": 244,
     "metadata": {},
     "output_type": "execute_result"
    }
   ],
   "source": [
    "#turn it into a dataframe \n",
    "birthdays = pd.DataFrame(birthdays)\n",
    "\n",
    "#call dataframe\n",
    "birthdays.head()"
   ]
  },
  {
   "cell_type": "code",
   "execution_count": 245,
   "id": "580eee07",
   "metadata": {},
   "outputs": [
    {
     "name": "stdout",
     "output_type": "stream",
     "text": [
      "probability of having at least two people with the same birthday in a group of 23 people 0.52\n"
     ]
    }
   ],
   "source": [
    "# 23 students in class\n",
    "#If the number of unique birthdays is less than 23 in a simulation, \n",
    "#it means that there are at least two people with the same birthday in that particular group(birthday paradox). \n",
    "\n",
    "atleast_2sameday_birthday = (birthdays.nunique(axis=1) < 23).mean()\n",
    "print('probability of having at least two people with the same birthday in a group of 23 people',atleast_2sameday_birthday)"
   ]
  },
  {
   "cell_type": "code",
   "execution_count": 256,
   "id": "4fef563b",
   "metadata": {},
   "outputs": [
    {
     "data": {
      "text/html": [
       "<div>\n",
       "<style scoped>\n",
       "    .dataframe tbody tr th:only-of-type {\n",
       "        vertical-align: middle;\n",
       "    }\n",
       "\n",
       "    .dataframe tbody tr th {\n",
       "        vertical-align: top;\n",
       "    }\n",
       "\n",
       "    .dataframe thead th {\n",
       "        text-align: right;\n",
       "    }\n",
       "</style>\n",
       "<table border=\"1\" class=\"dataframe\">\n",
       "  <thead>\n",
       "    <tr style=\"text-align: right;\">\n",
       "      <th></th>\n",
       "      <th>0</th>\n",
       "      <th>1</th>\n",
       "      <th>2</th>\n",
       "      <th>3</th>\n",
       "      <th>4</th>\n",
       "      <th>5</th>\n",
       "      <th>6</th>\n",
       "      <th>7</th>\n",
       "      <th>8</th>\n",
       "      <th>9</th>\n",
       "      <th>10</th>\n",
       "      <th>11</th>\n",
       "      <th>12</th>\n",
       "      <th>13</th>\n",
       "      <th>14</th>\n",
       "      <th>15</th>\n",
       "      <th>16</th>\n",
       "      <th>17</th>\n",
       "      <th>18</th>\n",
       "      <th>19</th>\n",
       "    </tr>\n",
       "  </thead>\n",
       "  <tbody>\n",
       "    <tr>\n",
       "      <th>0</th>\n",
       "      <td>287</td>\n",
       "      <td>69</td>\n",
       "      <td>177</td>\n",
       "      <td>98</td>\n",
       "      <td>68</td>\n",
       "      <td>183</td>\n",
       "      <td>352</td>\n",
       "      <td>233</td>\n",
       "      <td>182</td>\n",
       "      <td>214</td>\n",
       "      <td>22</td>\n",
       "      <td>100</td>\n",
       "      <td>352</td>\n",
       "      <td>118</td>\n",
       "      <td>204</td>\n",
       "      <td>43</td>\n",
       "      <td>3</td>\n",
       "      <td>175</td>\n",
       "      <td>306</td>\n",
       "      <td>243</td>\n",
       "    </tr>\n",
       "    <tr>\n",
       "      <th>1</th>\n",
       "      <td>155</td>\n",
       "      <td>120</td>\n",
       "      <td>133</td>\n",
       "      <td>39</td>\n",
       "      <td>132</td>\n",
       "      <td>187</td>\n",
       "      <td>40</td>\n",
       "      <td>113</td>\n",
       "      <td>354</td>\n",
       "      <td>14</td>\n",
       "      <td>205</td>\n",
       "      <td>52</td>\n",
       "      <td>347</td>\n",
       "      <td>259</td>\n",
       "      <td>183</td>\n",
       "      <td>126</td>\n",
       "      <td>86</td>\n",
       "      <td>168</td>\n",
       "      <td>290</td>\n",
       "      <td>41</td>\n",
       "    </tr>\n",
       "    <tr>\n",
       "      <th>2</th>\n",
       "      <td>67</td>\n",
       "      <td>207</td>\n",
       "      <td>211</td>\n",
       "      <td>116</td>\n",
       "      <td>127</td>\n",
       "      <td>321</td>\n",
       "      <td>66</td>\n",
       "      <td>97</td>\n",
       "      <td>124</td>\n",
       "      <td>188</td>\n",
       "      <td>81</td>\n",
       "      <td>220</td>\n",
       "      <td>294</td>\n",
       "      <td>248</td>\n",
       "      <td>71</td>\n",
       "      <td>25</td>\n",
       "      <td>295</td>\n",
       "      <td>298</td>\n",
       "      <td>1</td>\n",
       "      <td>218</td>\n",
       "    </tr>\n",
       "    <tr>\n",
       "      <th>3</th>\n",
       "      <td>240</td>\n",
       "      <td>253</td>\n",
       "      <td>261</td>\n",
       "      <td>4</td>\n",
       "      <td>155</td>\n",
       "      <td>318</td>\n",
       "      <td>235</td>\n",
       "      <td>363</td>\n",
       "      <td>14</td>\n",
       "      <td>97</td>\n",
       "      <td>308</td>\n",
       "      <td>79</td>\n",
       "      <td>295</td>\n",
       "      <td>316</td>\n",
       "      <td>353</td>\n",
       "      <td>254</td>\n",
       "      <td>194</td>\n",
       "      <td>298</td>\n",
       "      <td>47</td>\n",
       "      <td>304</td>\n",
       "    </tr>\n",
       "    <tr>\n",
       "      <th>4</th>\n",
       "      <td>182</td>\n",
       "      <td>22</td>\n",
       "      <td>123</td>\n",
       "      <td>81</td>\n",
       "      <td>251</td>\n",
       "      <td>170</td>\n",
       "      <td>146</td>\n",
       "      <td>8</td>\n",
       "      <td>30</td>\n",
       "      <td>105</td>\n",
       "      <td>28</td>\n",
       "      <td>355</td>\n",
       "      <td>53</td>\n",
       "      <td>274</td>\n",
       "      <td>255</td>\n",
       "      <td>160</td>\n",
       "      <td>142</td>\n",
       "      <td>237</td>\n",
       "      <td>109</td>\n",
       "      <td>299</td>\n",
       "    </tr>\n",
       "    <tr>\n",
       "      <th>...</th>\n",
       "      <td>...</td>\n",
       "      <td>...</td>\n",
       "      <td>...</td>\n",
       "      <td>...</td>\n",
       "      <td>...</td>\n",
       "      <td>...</td>\n",
       "      <td>...</td>\n",
       "      <td>...</td>\n",
       "      <td>...</td>\n",
       "      <td>...</td>\n",
       "      <td>...</td>\n",
       "      <td>...</td>\n",
       "      <td>...</td>\n",
       "      <td>...</td>\n",
       "      <td>...</td>\n",
       "      <td>...</td>\n",
       "      <td>...</td>\n",
       "      <td>...</td>\n",
       "      <td>...</td>\n",
       "      <td>...</td>\n",
       "    </tr>\n",
       "    <tr>\n",
       "      <th>995</th>\n",
       "      <td>5</td>\n",
       "      <td>266</td>\n",
       "      <td>35</td>\n",
       "      <td>58</td>\n",
       "      <td>181</td>\n",
       "      <td>303</td>\n",
       "      <td>193</td>\n",
       "      <td>340</td>\n",
       "      <td>275</td>\n",
       "      <td>341</td>\n",
       "      <td>58</td>\n",
       "      <td>150</td>\n",
       "      <td>266</td>\n",
       "      <td>344</td>\n",
       "      <td>101</td>\n",
       "      <td>91</td>\n",
       "      <td>33</td>\n",
       "      <td>310</td>\n",
       "      <td>1</td>\n",
       "      <td>47</td>\n",
       "    </tr>\n",
       "    <tr>\n",
       "      <th>996</th>\n",
       "      <td>103</td>\n",
       "      <td>198</td>\n",
       "      <td>47</td>\n",
       "      <td>167</td>\n",
       "      <td>226</td>\n",
       "      <td>104</td>\n",
       "      <td>104</td>\n",
       "      <td>131</td>\n",
       "      <td>258</td>\n",
       "      <td>341</td>\n",
       "      <td>220</td>\n",
       "      <td>100</td>\n",
       "      <td>240</td>\n",
       "      <td>129</td>\n",
       "      <td>206</td>\n",
       "      <td>84</td>\n",
       "      <td>109</td>\n",
       "      <td>25</td>\n",
       "      <td>264</td>\n",
       "      <td>120</td>\n",
       "    </tr>\n",
       "    <tr>\n",
       "      <th>997</th>\n",
       "      <td>63</td>\n",
       "      <td>114</td>\n",
       "      <td>288</td>\n",
       "      <td>183</td>\n",
       "      <td>312</td>\n",
       "      <td>197</td>\n",
       "      <td>287</td>\n",
       "      <td>199</td>\n",
       "      <td>3</td>\n",
       "      <td>339</td>\n",
       "      <td>278</td>\n",
       "      <td>314</td>\n",
       "      <td>291</td>\n",
       "      <td>109</td>\n",
       "      <td>216</td>\n",
       "      <td>69</td>\n",
       "      <td>284</td>\n",
       "      <td>277</td>\n",
       "      <td>138</td>\n",
       "      <td>112</td>\n",
       "    </tr>\n",
       "    <tr>\n",
       "      <th>998</th>\n",
       "      <td>160</td>\n",
       "      <td>194</td>\n",
       "      <td>47</td>\n",
       "      <td>37</td>\n",
       "      <td>83</td>\n",
       "      <td>55</td>\n",
       "      <td>75</td>\n",
       "      <td>25</td>\n",
       "      <td>28</td>\n",
       "      <td>305</td>\n",
       "      <td>200</td>\n",
       "      <td>362</td>\n",
       "      <td>291</td>\n",
       "      <td>82</td>\n",
       "      <td>193</td>\n",
       "      <td>233</td>\n",
       "      <td>131</td>\n",
       "      <td>184</td>\n",
       "      <td>49</td>\n",
       "      <td>202</td>\n",
       "    </tr>\n",
       "    <tr>\n",
       "      <th>999</th>\n",
       "      <td>266</td>\n",
       "      <td>112</td>\n",
       "      <td>140</td>\n",
       "      <td>270</td>\n",
       "      <td>145</td>\n",
       "      <td>205</td>\n",
       "      <td>150</td>\n",
       "      <td>28</td>\n",
       "      <td>256</td>\n",
       "      <td>236</td>\n",
       "      <td>320</td>\n",
       "      <td>337</td>\n",
       "      <td>232</td>\n",
       "      <td>190</td>\n",
       "      <td>160</td>\n",
       "      <td>330</td>\n",
       "      <td>91</td>\n",
       "      <td>46</td>\n",
       "      <td>29</td>\n",
       "      <td>246</td>\n",
       "    </tr>\n",
       "  </tbody>\n",
       "</table>\n",
       "<p>1000 rows × 20 columns</p>\n",
       "</div>"
      ],
      "text/plain": [
       "      0    1    2    3    4    5    6    7    8    9    10   11   12   13  \\\n",
       "0    287   69  177   98   68  183  352  233  182  214   22  100  352  118   \n",
       "1    155  120  133   39  132  187   40  113  354   14  205   52  347  259   \n",
       "2     67  207  211  116  127  321   66   97  124  188   81  220  294  248   \n",
       "3    240  253  261    4  155  318  235  363   14   97  308   79  295  316   \n",
       "4    182   22  123   81  251  170  146    8   30  105   28  355   53  274   \n",
       "..   ...  ...  ...  ...  ...  ...  ...  ...  ...  ...  ...  ...  ...  ...   \n",
       "995    5  266   35   58  181  303  193  340  275  341   58  150  266  344   \n",
       "996  103  198   47  167  226  104  104  131  258  341  220  100  240  129   \n",
       "997   63  114  288  183  312  197  287  199    3  339  278  314  291  109   \n",
       "998  160  194   47   37   83   55   75   25   28  305  200  362  291   82   \n",
       "999  266  112  140  270  145  205  150   28  256  236  320  337  232  190   \n",
       "\n",
       "      14   15   16   17   18   19  \n",
       "0    204   43    3  175  306  243  \n",
       "1    183  126   86  168  290   41  \n",
       "2     71   25  295  298    1  218  \n",
       "3    353  254  194  298   47  304  \n",
       "4    255  160  142  237  109  299  \n",
       "..   ...  ...  ...  ...  ...  ...  \n",
       "995  101   91   33  310    1   47  \n",
       "996  206   84  109   25  264  120  \n",
       "997  216   69  284  277  138  112  \n",
       "998  193  233  131  184   49  202  \n",
       "999  160  330   91   46   29  246  \n",
       "\n",
       "[1000 rows x 20 columns]"
      ]
     },
     "execution_count": 256,
     "metadata": {},
     "output_type": "execute_result"
    }
   ],
   "source": [
    "# 20 students in class\n",
    "\n",
    "#number of days in a year\n",
    "outcomes = range(0, 365) \n",
    "\n",
    "#number of students\n",
    "n_students= 20 \n",
    "\n",
    "#let's see what the possibility of birhtdays is with 20 students\n",
    "birthdays= np.random.choice(outcomes, size=(n_simulations, n_students))\n",
    "\n",
    "#turn that into a DF\n",
    "birthdays = pd.DataFrame(birthdays)\n",
    "\n",
    "#call the DF\n",
    "birthdays"
   ]
  },
  {
   "cell_type": "code",
   "execution_count": 257,
   "id": "063d5a34",
   "metadata": {},
   "outputs": [
    {
     "name": "stdout",
     "output_type": "stream",
     "text": [
      "Probability of two people sharing a birthday out of 20 people in the same room : 0.399\n"
     ]
    }
   ],
   "source": [
    "#get the probability\n",
    "prob2_outof23 = (birthdays.nunique(axis=1) < n_students).mean()\n",
    "print(\"Probability of two people sharing a birthday out of 20 people in the same room :\",prob2_outof23 )"
   ]
  },
  {
   "cell_type": "code",
   "execution_count": 250,
   "id": "360304e5",
   "metadata": {},
   "outputs": [
    {
     "name": "stdout",
     "output_type": "stream",
     "text": [
      "Probability of two people sharing a birthday out of 40 people in the same room : 0.908\n"
     ]
    }
   ],
   "source": [
    "# 40 students in class\n",
    "\n",
    "#number of days in a year\n",
    "outcomes = range(0, 365) \n",
    "\n",
    "#number of students\n",
    "n_students= 40 \n",
    "\n",
    "#let's see what the possibility of birhtdays is with 40 students\n",
    "birthdays = np.random.choice(outcomes, size=(n_simulations, n_students))\n",
    "\n",
    "#call the DF\n",
    "birthdays = pd.DataFrame(birthdays)\n",
    "\n",
    "#get the probability\n",
    "prob2_outof40 = (birthdays.nunique(axis=1) < n_students).mean()\n",
    "print(\"Probability of two people sharing a birthday out of 40 people in the same room :\",prob2_outof40 )"
   ]
  },
  {
   "cell_type": "code",
   "execution_count": null,
   "id": "9f3d941b",
   "metadata": {},
   "outputs": [],
   "source": []
  }
 ],
 "metadata": {
  "kernelspec": {
   "display_name": "Python 3 (ipykernel)",
   "language": "python",
   "name": "python3"
  },
  "language_info": {
   "codemirror_mode": {
    "name": "ipython",
    "version": 3
   },
   "file_extension": ".py",
   "mimetype": "text/x-python",
   "name": "python",
   "nbconvert_exporter": "python",
   "pygments_lexer": "ipython3",
   "version": "3.11.3"
  }
 },
 "nbformat": 4,
 "nbformat_minor": 5
}
